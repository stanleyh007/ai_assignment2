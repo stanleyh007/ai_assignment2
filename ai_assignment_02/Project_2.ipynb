{
 "cells": [
  {
   "cell_type": "code",
   "execution_count": 1,
   "metadata": {},
   "outputs": [],
   "source": [
    "import pandas as pd\n",
    "df = pd.read_csv('voice.csv')"
   ]
  },
  {
   "cell_type": "code",
   "execution_count": 2,
   "metadata": {},
   "outputs": [
    {
     "data": {
      "text/html": [
       "<div>\n",
       "<style scoped>\n",
       "    .dataframe tbody tr th:only-of-type {\n",
       "        vertical-align: middle;\n",
       "    }\n",
       "\n",
       "    .dataframe tbody tr th {\n",
       "        vertical-align: top;\n",
       "    }\n",
       "\n",
       "    .dataframe thead th {\n",
       "        text-align: right;\n",
       "    }\n",
       "</style>\n",
       "<table border=\"1\" class=\"dataframe\">\n",
       "  <thead>\n",
       "    <tr style=\"text-align: right;\">\n",
       "      <th></th>\n",
       "      <th>meanfreq</th>\n",
       "      <th>sd</th>\n",
       "      <th>median</th>\n",
       "      <th>Q25</th>\n",
       "      <th>Q75</th>\n",
       "      <th>IQR</th>\n",
       "      <th>skew</th>\n",
       "      <th>kurt</th>\n",
       "      <th>sp.ent</th>\n",
       "      <th>sfm</th>\n",
       "      <th>...</th>\n",
       "      <th>centroid</th>\n",
       "      <th>meanfun</th>\n",
       "      <th>minfun</th>\n",
       "      <th>maxfun</th>\n",
       "      <th>meandom</th>\n",
       "      <th>mindom</th>\n",
       "      <th>maxdom</th>\n",
       "      <th>dfrange</th>\n",
       "      <th>modindx</th>\n",
       "      <th>label</th>\n",
       "    </tr>\n",
       "  </thead>\n",
       "  <tbody>\n",
       "    <tr>\n",
       "      <th>0</th>\n",
       "      <td>0.059781</td>\n",
       "      <td>0.064241</td>\n",
       "      <td>0.032027</td>\n",
       "      <td>0.015071</td>\n",
       "      <td>0.090193</td>\n",
       "      <td>0.075122</td>\n",
       "      <td>12.863462</td>\n",
       "      <td>274.402906</td>\n",
       "      <td>0.893369</td>\n",
       "      <td>0.491918</td>\n",
       "      <td>...</td>\n",
       "      <td>0.059781</td>\n",
       "      <td>0.084279</td>\n",
       "      <td>0.015702</td>\n",
       "      <td>0.275862</td>\n",
       "      <td>0.007812</td>\n",
       "      <td>0.007812</td>\n",
       "      <td>0.007812</td>\n",
       "      <td>0.000000</td>\n",
       "      <td>0.000000</td>\n",
       "      <td>male</td>\n",
       "    </tr>\n",
       "    <tr>\n",
       "      <th>1</th>\n",
       "      <td>0.066009</td>\n",
       "      <td>0.067310</td>\n",
       "      <td>0.040229</td>\n",
       "      <td>0.019414</td>\n",
       "      <td>0.092666</td>\n",
       "      <td>0.073252</td>\n",
       "      <td>22.423285</td>\n",
       "      <td>634.613855</td>\n",
       "      <td>0.892193</td>\n",
       "      <td>0.513724</td>\n",
       "      <td>...</td>\n",
       "      <td>0.066009</td>\n",
       "      <td>0.107937</td>\n",
       "      <td>0.015826</td>\n",
       "      <td>0.250000</td>\n",
       "      <td>0.009014</td>\n",
       "      <td>0.007812</td>\n",
       "      <td>0.054688</td>\n",
       "      <td>0.046875</td>\n",
       "      <td>0.052632</td>\n",
       "      <td>male</td>\n",
       "    </tr>\n",
       "    <tr>\n",
       "      <th>2</th>\n",
       "      <td>0.077316</td>\n",
       "      <td>0.083829</td>\n",
       "      <td>0.036718</td>\n",
       "      <td>0.008701</td>\n",
       "      <td>0.131908</td>\n",
       "      <td>0.123207</td>\n",
       "      <td>30.757155</td>\n",
       "      <td>1024.927705</td>\n",
       "      <td>0.846389</td>\n",
       "      <td>0.478905</td>\n",
       "      <td>...</td>\n",
       "      <td>0.077316</td>\n",
       "      <td>0.098706</td>\n",
       "      <td>0.015656</td>\n",
       "      <td>0.271186</td>\n",
       "      <td>0.007990</td>\n",
       "      <td>0.007812</td>\n",
       "      <td>0.015625</td>\n",
       "      <td>0.007812</td>\n",
       "      <td>0.046512</td>\n",
       "      <td>male</td>\n",
       "    </tr>\n",
       "    <tr>\n",
       "      <th>3</th>\n",
       "      <td>0.151228</td>\n",
       "      <td>0.072111</td>\n",
       "      <td>0.158011</td>\n",
       "      <td>0.096582</td>\n",
       "      <td>0.207955</td>\n",
       "      <td>0.111374</td>\n",
       "      <td>1.232831</td>\n",
       "      <td>4.177296</td>\n",
       "      <td>0.963322</td>\n",
       "      <td>0.727232</td>\n",
       "      <td>...</td>\n",
       "      <td>0.151228</td>\n",
       "      <td>0.088965</td>\n",
       "      <td>0.017798</td>\n",
       "      <td>0.250000</td>\n",
       "      <td>0.201497</td>\n",
       "      <td>0.007812</td>\n",
       "      <td>0.562500</td>\n",
       "      <td>0.554688</td>\n",
       "      <td>0.247119</td>\n",
       "      <td>male</td>\n",
       "    </tr>\n",
       "    <tr>\n",
       "      <th>4</th>\n",
       "      <td>0.135120</td>\n",
       "      <td>0.079146</td>\n",
       "      <td>0.124656</td>\n",
       "      <td>0.078720</td>\n",
       "      <td>0.206045</td>\n",
       "      <td>0.127325</td>\n",
       "      <td>1.101174</td>\n",
       "      <td>4.333713</td>\n",
       "      <td>0.971955</td>\n",
       "      <td>0.783568</td>\n",
       "      <td>...</td>\n",
       "      <td>0.135120</td>\n",
       "      <td>0.106398</td>\n",
       "      <td>0.016931</td>\n",
       "      <td>0.266667</td>\n",
       "      <td>0.712812</td>\n",
       "      <td>0.007812</td>\n",
       "      <td>5.484375</td>\n",
       "      <td>5.476562</td>\n",
       "      <td>0.208274</td>\n",
       "      <td>male</td>\n",
       "    </tr>\n",
       "  </tbody>\n",
       "</table>\n",
       "<p>5 rows × 21 columns</p>\n",
       "</div>"
      ],
      "text/plain": [
       "   meanfreq        sd    median       Q25       Q75       IQR       skew  \\\n",
       "0  0.059781  0.064241  0.032027  0.015071  0.090193  0.075122  12.863462   \n",
       "1  0.066009  0.067310  0.040229  0.019414  0.092666  0.073252  22.423285   \n",
       "2  0.077316  0.083829  0.036718  0.008701  0.131908  0.123207  30.757155   \n",
       "3  0.151228  0.072111  0.158011  0.096582  0.207955  0.111374   1.232831   \n",
       "4  0.135120  0.079146  0.124656  0.078720  0.206045  0.127325   1.101174   \n",
       "\n",
       "          kurt    sp.ent       sfm  ...    centroid   meanfun    minfun  \\\n",
       "0   274.402906  0.893369  0.491918  ...    0.059781  0.084279  0.015702   \n",
       "1   634.613855  0.892193  0.513724  ...    0.066009  0.107937  0.015826   \n",
       "2  1024.927705  0.846389  0.478905  ...    0.077316  0.098706  0.015656   \n",
       "3     4.177296  0.963322  0.727232  ...    0.151228  0.088965  0.017798   \n",
       "4     4.333713  0.971955  0.783568  ...    0.135120  0.106398  0.016931   \n",
       "\n",
       "     maxfun   meandom    mindom    maxdom   dfrange   modindx  label  \n",
       "0  0.275862  0.007812  0.007812  0.007812  0.000000  0.000000   male  \n",
       "1  0.250000  0.009014  0.007812  0.054688  0.046875  0.052632   male  \n",
       "2  0.271186  0.007990  0.007812  0.015625  0.007812  0.046512   male  \n",
       "3  0.250000  0.201497  0.007812  0.562500  0.554688  0.247119   male  \n",
       "4  0.266667  0.712812  0.007812  5.484375  5.476562  0.208274   male  \n",
       "\n",
       "[5 rows x 21 columns]"
      ]
     },
     "execution_count": 2,
     "metadata": {},
     "output_type": "execute_result"
    }
   ],
   "source": [
    "df.head()"
   ]
  },
  {
   "cell_type": "markdown",
   "metadata": {},
   "source": [
    "**Part 1: Data exploration**\n",
    "\n",
    "1. Frequencies are the variables in this dataset,that used to identify a voice as male or female, based on human vocal range i.e., a typical adult male will have a fundamental frequency from 85 to 180 Hz, and a typical adult female from 165 to 255 Hz.\n",
    "2. Median frequency means the frequency that is found at the exact middle of all recorded frequencies for one voice.\n",
    "3. Output label determines if the voice is from a male or female."
   ]
  },
  {
   "cell_type": "markdown",
   "metadata": {},
   "source": [
    "**Part 2: Data preparation**"
   ]
  },
  {
   "cell_type": "code",
   "execution_count": 3,
   "metadata": {},
   "outputs": [],
   "source": [
    "x_data = df.iloc[:,:-1]\n",
    "y_data = df['label']"
   ]
  },
  {
   "cell_type": "code",
   "execution_count": 4,
   "metadata": {},
   "outputs": [],
   "source": [
    "from sklearn.preprocessing import LabelEncoder\n",
    "from sklearn.preprocessing import MinMaxScaler\n",
    "\n",
    "scaler = MinMaxScaler(feature_range=(0, 1))\n",
    "X_data = scaler.fit_transform(x_data)\n",
    "\n",
    "label = LabelEncoder()\n",
    "Y_data = label.fit_transform(y_data)"
   ]
  },
  {
   "cell_type": "code",
   "execution_count": 5,
   "metadata": {},
   "outputs": [],
   "source": [
    "from sklearn.model_selection import KFold\n",
    "frequency_folder = KFold(n_splits=10, shuffle=True)"
   ]
  },
  {
   "cell_type": "code",
   "execution_count": 6,
   "metadata": {
    "scrolled": false
   },
   "outputs": [
    {
     "name": "stdout",
     "output_type": "stream",
     "text": [
      "\n",
      "\n",
      "X_train: (2851, 20) , X_test: (317, 20)\n",
      "y_train: (2851,) , y_test: (317,)\n",
      "\n",
      "\n",
      "X_train: (2851, 20) , X_test: (317, 20)\n",
      "y_train: (2851,) , y_test: (317,)\n",
      "\n",
      "\n",
      "X_train: (2851, 20) , X_test: (317, 20)\n",
      "y_train: (2851,) , y_test: (317,)\n",
      "\n",
      "\n",
      "X_train: (2851, 20) , X_test: (317, 20)\n",
      "y_train: (2851,) , y_test: (317,)\n",
      "\n",
      "\n",
      "X_train: (2851, 20) , X_test: (317, 20)\n",
      "y_train: (2851,) , y_test: (317,)\n",
      "\n",
      "\n",
      "X_train: (2851, 20) , X_test: (317, 20)\n",
      "y_train: (2851,) , y_test: (317,)\n",
      "\n",
      "\n",
      "X_train: (2851, 20) , X_test: (317, 20)\n",
      "y_train: (2851,) , y_test: (317,)\n",
      "\n",
      "\n",
      "X_train: (2851, 20) , X_test: (317, 20)\n",
      "y_train: (2851,) , y_test: (317,)\n",
      "\n",
      "\n",
      "X_train: (2852, 20) , X_test: (316, 20)\n",
      "y_train: (2852,) , y_test: (316,)\n",
      "\n",
      "\n",
      "X_train: (2852, 20) , X_test: (316, 20)\n",
      "y_train: (2852,) , y_test: (316,)\n"
     ]
    }
   ],
   "source": [
    "for train_index, test_index in frequency_folder.split(X_data):    \n",
    "    X_train, X_test = X_data[train_index], X_data[test_index]\n",
    "    y_train, y_test = Y_data[train_index], Y_data[test_index]\n",
    "    print(\"\\n\")\n",
    "    print(\"X_train:\", X_train.shape, \", X_test:\", X_test.shape)\n",
    "    print(\"y_train:\", y_train.shape, \", y_test:\", y_test.shape)"
   ]
  },
  {
   "cell_type": "markdown",
   "metadata": {},
   "source": [
    "**Part 3: Model construction**"
   ]
  },
  {
   "cell_type": "code",
   "execution_count": 7,
   "metadata": {
    "scrolled": true
   },
   "outputs": [],
   "source": [
    "from sklearn.pipeline import make_pipeline\n",
    "from sklearn.preprocessing import StandardScaler\n",
    "from sklearn.linear_model import LogisticRegression\n",
    "from sklearn import svm\n",
    "from sklearn.tree import DecisionTreeClassifier\n",
    "from sklearn import neighbors"
   ]
  },
  {
   "cell_type": "markdown",
   "metadata": {},
   "source": [
    "*1. Logistic Regression*"
   ]
  },
  {
   "cell_type": "code",
   "execution_count": 8,
   "metadata": {},
   "outputs": [],
   "source": [
    "model_genderlogi = make_pipeline(LogisticRegression(solver='lbfgs', max_iter=1000))"
   ]
  },
  {
   "cell_type": "markdown",
   "metadata": {},
   "source": [
    "Based on the given data, a sigmoid function will be maked which determine if a voice is from a male(1) or female(0). Logistic Regression shall perform well here, since the voice is either male or female."
   ]
  },
  {
   "cell_type": "markdown",
   "metadata": {},
   "source": [
    "*2. Support Vector Machine classifier*"
   ]
  },
  {
   "cell_type": "code",
   "execution_count": 9,
   "metadata": {},
   "outputs": [],
   "source": [
    "model_gendersvm = make_pipeline(svm.SVC(gamma='scale'))"
   ]
  },
  {
   "cell_type": "markdown",
   "metadata": {},
   "source": [
    "A Linear SVM Classification with Hard Margin will be used here, which means there is not any \"noise\" in training data. Decision boundary will place in between two closest data points and the accuracy shall be good."
   ]
  },
  {
   "cell_type": "markdown",
   "metadata": {},
   "source": [
    "*3. Decision Tree classifier*"
   ]
  },
  {
   "cell_type": "code",
   "execution_count": 10,
   "metadata": {},
   "outputs": [],
   "source": [
    "model_genderdecision = make_pipeline(DecisionTreeClassifier())"
   ]
  },
  {
   "cell_type": "markdown",
   "metadata": {},
   "source": [
    "DecisionTree will divide data until it gets a binary result, which means it may have the best accuracy."
   ]
  },
  {
   "cell_type": "markdown",
   "metadata": {},
   "source": [
    "*4. k-Nearest Neighbors classifier*"
   ]
  },
  {
   "cell_type": "code",
   "execution_count": 11,
   "metadata": {},
   "outputs": [],
   "source": [
    "model_genderknn = make_pipeline(neighbors.KNeighborsClassifier())"
   ]
  },
  {
   "cell_type": "markdown",
   "metadata": {},
   "source": [
    "KNN does not learn any model, but it uses all nearest neighbors to determine how we classify a given data point. KNN has relatively high accuracy."
   ]
  },
  {
   "cell_type": "markdown",
   "metadata": {},
   "source": [
    "**Part 4: Model validation**"
   ]
  },
  {
   "cell_type": "code",
   "execution_count": 12,
   "metadata": {},
   "outputs": [
    {
     "name": "stdout",
     "output_type": "stream",
     "text": [
      "logisticregression : [0.96845426 0.96214511 0.96214511 0.97160883 0.98107256 0.95899054\n",
      " 0.97476341 0.97476341 0.96835443 0.96518987] \n",
      "\n",
      "svc : [0.95899054 0.97160883 0.96214511 0.96214511 0.98107256 0.96529968\n",
      " 0.97791798 0.9873817  0.97151899 0.97151899] \n",
      "\n",
      "decisiontreeclassifier : [0.97791798 0.95899054 0.96214511 0.97160883 0.94952681 0.96529968\n",
      " 0.97476341 0.94952681 0.97468354 0.95253165] \n",
      "\n",
      "kneighborsclassifier : [0.97791798 0.96529968 0.97791798 0.97160883 0.96845426 0.9873817\n",
      " 0.96845426 0.99053628 0.9778481  0.97468354] \n",
      "\n"
     ]
    }
   ],
   "source": [
    "from sklearn.model_selection import cross_val_score\n",
    "\n",
    "model_looping = [model_genderlogi, model_gendersvm, model_genderdecision, model_genderknn]\n",
    "for model in model_looping:\n",
    "    score = cross_val_score(model, X_data, Y_data, cv=frequency_folder)\n",
    "    print(model.steps[0][0],\":\", score, \"\\n\")"
   ]
  },
  {
   "cell_type": "markdown",
   "metadata": {},
   "source": [
    "**Describe what the 'score' means** <br/>\n",
    "When you run cross_val_score, you cut up the dataset in accordance to the cv value, in our case 10, whereafter you run the model on every single piece. These pieces are then assigned an accuracy score that is then displayed in one big 'score'."
   ]
  },
  {
   "cell_type": "markdown",
   "metadata": {},
   "source": [
    "**Describe why the scores are different**<br/>\n",
    "The difference between the scores in the single model, is because the way the dataset gets cut up into 10 is random, which means the datasets are not always the same every time the function gets run."
   ]
  },
  {
   "cell_type": "markdown",
   "metadata": {},
   "source": [
    "**Part 5: Model optimisation: scaling**"
   ]
  },
  {
   "cell_type": "code",
   "execution_count": 13,
   "metadata": {},
   "outputs": [],
   "source": [
    "new_model_genderlogi = make_pipeline(StandardScaler(), LogisticRegression(solver='lbfgs', max_iter=1000))\n",
    "new_model_gendersvm = make_pipeline(StandardScaler(), svm.SVC(gamma='scale'))\n",
    "new_model_genderdecision = make_pipeline(StandardScaler(), DecisionTreeClassifier())\n",
    "new_model_genderknn = make_pipeline(StandardScaler(), neighbors.KNeighborsClassifier())"
   ]
  },
  {
   "cell_type": "markdown",
   "metadata": {},
   "source": [
    "**Describe what scaling actually is** <br/>\n",
    "Scaling is the practice of standardizing the data so that the models don't end up functioning improperly, due to wild fluctuations in input."
   ]
  },
  {
   "cell_type": "code",
   "execution_count": 14,
   "metadata": {},
   "outputs": [
    {
     "name": "stdout",
     "output_type": "stream",
     "text": [
      "logisticregression : 0.9728596813480813\n",
      "svc : 0.9816964820508725\n",
      "decisiontreeclassifier : 0.9668540111009065\n",
      "kneighborsclassifier : 0.9747494309787165\n"
     ]
    }
   ],
   "source": [
    "import numpy as np\n",
    "\n",
    "new_model_looping = [new_model_genderlogi, new_model_gendersvm, new_model_genderdecision, new_model_genderknn]\n",
    "for model in new_model_looping:\n",
    "    score = cross_val_score(model, X_data, Y_data, cv=frequency_folder)\n",
    "    print(model.steps[1][0], \":\", np.mean(score))"
   ]
  },
  {
   "cell_type": "markdown",
   "metadata": {},
   "source": [
    "**Describe which model performed well, and whether this aligned with your expectation from part 3** <br/>\n",
    "While all of the models performed well, the model with the biggest mean accuracy was the Support Vector Machine, and the model we assumed would perform the best was DecisionTree. However, we also assumed that Support Vector Machine would do well, so it's not too bad."
   ]
  },
  {
   "cell_type": "markdown",
   "metadata": {},
   "source": [
    "**Part 6: Manual Hyperparameter Tuning**"
   ]
  },
  {
   "cell_type": "code",
   "execution_count": 15,
   "metadata": {
    "scrolled": true
   },
   "outputs": [],
   "source": [
    "Knn_folder = KFold(n_splits=10, shuffle=True, random_state=42)\n",
    "for train_knn, test_knn in Knn_folder.split(X_data):    \n",
    "    Xk_train, Xk_test = X_data[train_knn], X_data[test_knn]\n",
    "    yk_train, yk_test = Y_data[train_knn], Y_data[test_knn]"
   ]
  },
  {
   "cell_type": "code",
   "execution_count": 16,
   "metadata": {},
   "outputs": [
    {
     "name": "stdout",
     "output_type": "stream",
     "text": [
      "k = 1, Score: 0.9841772151898734\n"
     ]
    }
   ],
   "source": [
    "from sklearn.metrics import accuracy_score\n",
    "\n",
    "Knn_1 = neighbors.KNeighborsClassifier(n_neighbors=1)\n",
    "Knn_1.fit(Xk_train, yk_train)\n",
    "y_pred = Knn_1.predict(Xk_test)\n",
    "print('k = 1,', 'Score:', accuracy_score(yk_test, y_pred))"
   ]
  },
  {
   "cell_type": "code",
   "execution_count": 17,
   "metadata": {},
   "outputs": [
    {
     "name": "stdout",
     "output_type": "stream",
     "text": [
      "k = 3, Score: 0.9873417721518988\n"
     ]
    }
   ],
   "source": [
    "Knn_3 = neighbors.KNeighborsClassifier(n_neighbors=3)\n",
    "Knn_3.fit(Xk_train, yk_train)\n",
    "y_pred = Knn_3.predict(Xk_test)\n",
    "print('k = 3,', 'Score:', accuracy_score(yk_test, y_pred))"
   ]
  },
  {
   "cell_type": "code",
   "execution_count": 18,
   "metadata": {},
   "outputs": [
    {
     "name": "stdout",
     "output_type": "stream",
     "text": [
      "k = 5, Score: 0.9778481012658228\n"
     ]
    }
   ],
   "source": [
    "Knn_5 = neighbors.KNeighborsClassifier(n_neighbors=5)\n",
    "Knn_5.fit(Xk_train, yk_train)\n",
    "y_pred = Knn_5.predict(Xk_test)\n",
    "print('k = 5,', 'Score:', accuracy_score(yk_test, y_pred))"
   ]
  },
  {
   "cell_type": "code",
   "execution_count": 19,
   "metadata": {},
   "outputs": [
    {
     "name": "stdout",
     "output_type": "stream",
     "text": [
      "k = 7, Score: 0.9778481012658228\n"
     ]
    }
   ],
   "source": [
    "Knn_7 = neighbors.KNeighborsClassifier(n_neighbors=7)\n",
    "Knn_7.fit(Xk_train, yk_train)\n",
    "y_pred = Knn_7.predict(Xk_test)\n",
    "print('k = 7,', 'Score:', accuracy_score(yk_test, y_pred))"
   ]
  },
  {
   "cell_type": "code",
   "execution_count": 20,
   "metadata": {},
   "outputs": [
    {
     "name": "stdout",
     "output_type": "stream",
     "text": [
      "k = 9, Score: 0.9778481012658228\n"
     ]
    }
   ],
   "source": [
    "Knn_9 = neighbors.KNeighborsClassifier(n_neighbors=9)\n",
    "Knn_9.fit(Xk_train, yk_train)\n",
    "y_pred = Knn_9.predict(Xk_test)\n",
    "print('k = 9,', 'Score:', accuracy_score(yk_test, y_pred))"
   ]
  },
  {
   "cell_type": "code",
   "execution_count": 21,
   "metadata": {},
   "outputs": [
    {
     "name": "stdout",
     "output_type": "stream",
     "text": [
      "k = 11, Score: 0.9841772151898734\n"
     ]
    }
   ],
   "source": [
    "Knn_11 = neighbors.KNeighborsClassifier(n_neighbors=11)\n",
    "Knn_11.fit(Xk_train, yk_train)\n",
    "y_pred = Knn_11.predict(Xk_test)\n",
    "print('k = 11,', 'Score:', accuracy_score(yk_test, y_pred))"
   ]
  },
  {
   "cell_type": "code",
   "execution_count": 22,
   "metadata": {},
   "outputs": [
    {
     "name": "stdout",
     "output_type": "stream",
     "text": [
      "k = 13, Score: 0.9746835443037974\n"
     ]
    }
   ],
   "source": [
    "Knn_13 = neighbors.KNeighborsClassifier(n_neighbors=13)\n",
    "Knn_13.fit(Xk_train, yk_train)\n",
    "y_pred = Knn_13.predict(Xk_test)\n",
    "print('k = 13,', 'Score:', accuracy_score(yk_test, y_pred))"
   ]
  },
  {
   "cell_type": "code",
   "execution_count": 23,
   "metadata": {},
   "outputs": [
    {
     "name": "stdout",
     "output_type": "stream",
     "text": [
      "k = 15, Score: 0.9715189873417721\n"
     ]
    }
   ],
   "source": [
    "Knn_15 = neighbors.KNeighborsClassifier(n_neighbors=15)\n",
    "Knn_15.fit(Xk_train, yk_train)\n",
    "y_pred = Knn_15.predict(Xk_test)\n",
    "print('k = 15,', 'Score:', accuracy_score(yk_test, y_pred))"
   ]
  },
  {
   "cell_type": "code",
   "execution_count": 24,
   "metadata": {},
   "outputs": [
    {
     "name": "stdout",
     "output_type": "stream",
     "text": [
      "k = 17, Score: 0.9715189873417721\n"
     ]
    }
   ],
   "source": [
    "Knn_17 = neighbors.KNeighborsClassifier(n_neighbors=17)\n",
    "Knn_17.fit(Xk_train, yk_train)\n",
    "y_pred = Knn_17.predict(Xk_test)\n",
    "print('k = 17,', 'Score:', accuracy_score(yk_test, y_pred))"
   ]
  },
  {
   "cell_type": "code",
   "execution_count": 25,
   "metadata": {},
   "outputs": [
    {
     "name": "stdout",
     "output_type": "stream",
     "text": [
      "k = 19, Score: 0.9715189873417721\n"
     ]
    }
   ],
   "source": [
    "Knn_19 = neighbors.KNeighborsClassifier(n_neighbors=19)\n",
    "Knn_19.fit(Xk_train, yk_train)\n",
    "y_pred = Knn_19.predict(Xk_test)\n",
    "print('k = 19,', 'Score:', accuracy_score(yk_test, y_pred))"
   ]
  },
  {
   "cell_type": "code",
   "execution_count": 26,
   "metadata": {},
   "outputs": [
    {
     "name": "stdout",
     "output_type": "stream",
     "text": [
      "Mean: 0.9778481012658228\n"
     ]
    }
   ],
   "source": [
    "k_List = list(range(1,20))\n",
    "Odd_k = list(filter(lambda x: x % 2, k_List))\n",
    "scores = []\n",
    "\n",
    "for k in Odd_k:\n",
    "    Knn = neighbors.KNeighborsClassifier(n_neighbors=k)\n",
    "    Knn.fit(Xk_train, yk_train)\n",
    "    y_pred = Knn.predict(Xk_test)\n",
    "    scores.append(accuracy_score(yk_test, y_pred))\n",
    "\n",
    "print('Mean:', np.mean(scores))"
   ]
  },
  {
   "cell_type": "code",
   "execution_count": 27,
   "metadata": {},
   "outputs": [
    {
     "data": {
      "text/plain": [
       "Text(0, 0.5, 'Accuracy score')"
      ]
     },
     "execution_count": 27,
     "metadata": {},
     "output_type": "execute_result"
    },
    {
     "data": {
      "image/png": "[encoded data removed]",
      "text/plain": [
       "<Figure size 432x288 with 1 Axes>"
      ]
     },
     "metadata": {
      "needs_background": "light"
     },
     "output_type": "display_data"
    }
   ],
   "source": [
    "import matplotlib.pyplot as plt\n",
    "%matplotlib inline\n",
    "\n",
    "plt.plot(Odd_k, scores)\n",
    "plt.xlabel('Value of K for Knn')\n",
    "plt.ylabel('Accuracy score')"
   ]
  },
  {
   "cell_type": "markdown",
   "metadata": {},
   "source": [
    "**Why the value you found for n_neighbors -- for the highest score -- has that value** <br/>\n",
    "The values that gives us the highest score out of our hyperparameters is 3 in this run, since the KFold is randomized, each run would give different results. The hyperparameter determines the amount of datapoints nearby for an accurate result. We assume that 3 are the best because accuracy score is the highest. "
   ]
  },
  {
   "cell_type": "code",
   "execution_count": null,
   "metadata": {},
   "outputs": [],
   "source": []
  }
 ],
 "metadata": {
  "kernelspec": {
   "display_name": "Python 3",
   "language": "python",
   "name": "python3"
  },
  "language_info": {
   "codemirror_mode": {
    "name": "ipython",
    "version": 3
   },
   "file_extension": ".py",
   "mimetype": "text/x-python",
   "name": "python",
   "nbconvert_exporter": "python",
   "pygments_lexer": "ipython3",
   "version": "3.7.1"
  }
 },
 "nbformat": 4,
 "nbformat_minor": 2
}
